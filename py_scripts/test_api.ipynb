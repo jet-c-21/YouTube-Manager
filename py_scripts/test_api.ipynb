{
 "cells": [
  {
   "cell_type": "code",
   "execution_count": 1,
   "metadata": {
    "collapsed": true
   },
   "outputs": [
    {
     "name": "stdout",
     "output_type": "stream",
     "text": [
      "[INFO] - append directory to path: /home/puff/my_home/side_project/YouTube-Manager\n"
     ]
    }
   ],
   "source": [
    "import sys\n",
    "import pathlib\n",
    "\n",
    "CURR_DIR = pathlib.Path().resolve()\n",
    "PROJECT_DIR = CURR_DIR.parent\n",
    "sys.path.append(str(PROJECT_DIR))\n",
    "print(f\"[INFO] - append directory to path: {PROJECT_DIR}\")"
   ]
  },
  {
   "cell_type": "code",
   "execution_count": 2,
   "outputs": [],
   "source": [
    "from youtube_manager import YouTubeManger\n",
    "from youtube_manager.playlist import Playlist"
   ],
   "metadata": {
    "collapsed": false,
    "pycharm": {
     "name": "#%%\n"
    }
   }
  },
  {
   "cell_type": "code",
   "execution_count": 3,
   "outputs": [
    {
     "data": {
      "text/plain": "PosixPath('/home/puff/my_home/side_project/YouTube-Manager/oauth_json/pv_yt_oauth.json')"
     },
     "execution_count": 3,
     "metadata": {},
     "output_type": "execute_result"
    }
   ],
   "source": [
    "oauth_path = PROJECT_DIR / 'oauth_json/pv_yt_oauth.json'\n",
    "oauth_path"
   ],
   "metadata": {
    "collapsed": false,
    "pycharm": {
     "name": "#%%\n"
    }
   }
  },
  {
   "cell_type": "code",
   "execution_count": 4,
   "outputs": [
    {
     "name": "stdout",
     "output_type": "stream",
     "text": [
      "Please visit this URL to authorize this application: https://accounts.google.com/o/oauth2/auth?response_type=code&client_id=676081722923-4qiguilbner2i9jfr6f0gqcrgn0md0d1.apps.googleusercontent.com&redirect_uri=http%3A%2F%2Flocalhost%3A8080%2F&scope=https%3A%2F%2Fwww.googleapis.com%2Fauth%2Fyoutube.force-ssl&state=MIqXWDoYGR8mpT4Gnml8EXSJj0OuBi&access_type=offline\n",
      "YouTube API v3 initialized\n"
     ]
    }
   ],
   "source": [
    "ytm = YouTubeManger(oauth_path)"
   ],
   "metadata": {
    "collapsed": false,
    "pycharm": {
     "name": "#%%\n"
    }
   }
  },
  {
   "cell_type": "code",
   "execution_count": 5,
   "outputs": [
    {
     "name": "stdout",
     "output_type": "stream",
     "text": [
      "[<Playlist - Study with BTS - PLqSgX1Zu_6lyy35TQz1UXvqOSZvwpAAwk>,\n",
      " <Playlist - 老高 心理學 - PLqSgX1Zu_6lwiD4c6dvoAXNxm6Dvu6nbt>,\n",
      " <Playlist - 老高 ALL 2023-02-04 - PLqSgX1Zu_6lzjWT0HkFzo6Bg-jf8UeA2X>,\n",
      " <Playlist - Gao's Life Tips - PLqSgX1Zu_6lxRK1mTFSeNEX_lvA_d3FXc>,\n",
      " <Playlist - GA - PLqSgX1Zu_6lw8qhY5oYVqjM7gutOpI_Gr>,\n",
      " <Playlist - Iphone Helper List - PLqSgX1Zu_6lw3XDVgwl0-SSjEOJtaIZpB>,\n",
      " <Playlist - LHY - CNN - PLqSgX1Zu_6lzffKV8uMyx3XFGpHQT4n_Z>,\n",
      " <Playlist - A. Gao's Stream - PLqSgX1Zu_6lwNo8GpboEXKYWSZDyEKTOt>,\n",
      " <Playlist - Art with Ai - PLqSgX1Zu_6lzkqEUGJIp5SZUCivcUqwP4>,\n",
      " <Playlist - NTUT DAA 2021 - PLqSgX1Zu_6lzLiv5fZv36W7-6U7YNNn4B>,\n",
      " <Playlist - Computerphile - CV - PLqSgX1Zu_6lxHF7yArkBI7mo3wL0bgaGd>,\n",
      " <Playlist - CV Application - PLqSgX1Zu_6lyO0hoTrpHEP4sS5L7ijakj>,\n",
      " <Playlist - Fit at Home - PLqSgX1Zu_6lwCCXN9CaQm1CZCOOGEC2sm>,\n",
      " <Playlist - CPP CS 4210 - PLqSgX1Zu_6lzqQ2Nm0QNUF0NrKg27AhHZ>,\n",
      " <Playlist - 淡江 Linear Algebra 2021 July - PLqSgX1Zu_6lyk0NZ-6jKbPckJPKzEpC30>,\n",
      " <Playlist - SCU-OS - PLqSgX1Zu_6lx7_XRujOVJqh0LTYbgLhrB>,\n",
      " <Playlist - COAP - HW2 - src - PLqSgX1Zu_6lxmcwkEM4JpCHssG0_fAnn0>,\n",
      " <Playlist - UML - PLqSgX1Zu_6lxpO5OHp4m4qfXAo4Y9uccx>,\n",
      " <Playlist - Listening - Elon Musk - PLqSgX1Zu_6lycIaYMpabj2E95zvvl7PQA>,\n",
      " <Playlist - Python Updates - PLqSgX1Zu_6lw6T0tlBWqhK351zsiYvSf5>,\n",
      " <Playlist - CSS Flex - PLqSgX1Zu_6lzfS4Dp3_kP_Pef34T6Ck39>,\n",
      " <Playlist - CSS Grid - PLqSgX1Zu_6lwXc9Z0b2Nb5kqm03QbFVDG>,\n",
      " <Playlist - Load Performance - PLqSgX1Zu_6lwCzDVwOD-j4-mDvJFnTQXr>,\n",
      " <Playlist - JS Logging - PLqSgX1Zu_6lzPO3LcSKLdYnMfcQkPxQ23>,\n",
      " <Playlist - Desktop Hardware - PLqSgX1Zu_6lzSgfhOVAdQ6d_oK8LGYfMy>,\n",
      " <Playlist - Candlestick - PLqSgX1Zu_6lwJcaghZ7xNfeSX_cd2ep9D>,\n",
      " <Playlist - JS - Tips - PLqSgX1Zu_6lwmQC5ZLcHyYSH899-0kW3h>,\n",
      " <Playlist - amchart.js - PLqSgX1Zu_6lzewU8XSgzMgw3z8i50LYq9>,\n",
      " <Playlist - Shadowing - PLqSgX1Zu_6lyAQidgauG4HB4o0xrm1wdW>,\n",
      " <Playlist - P-Cool - PLqSgX1Zu_6lzUM-kCTUGZ3qA4tYHDXJxJ>,\n",
      " <Playlist - Django - PLqSgX1Zu_6lz-mETFnOcOjET_SNTFaqMC>,\n",
      " <Playlist - Movie - PLqSgX1Zu_6lzZIOY6z9kRmZik-QHZ1W-N>,\n",
      " <Playlist - Python x English - PLqSgX1Zu_6lwuZovq-4hGrFGMrdad0Yop>,\n",
      " <Playlist - Hair - PLqSgX1Zu_6lzIe0OJxIb1wayKDVTWJweE>,\n",
      " <Playlist - Suotome Ai - PLqSgX1Zu_6lyErlRbtur8PjUfgZExgmhH>,\n",
      " <Playlist - Suotome Ai YT - PLqSgX1Zu_6lzDM8JaT-t-_kkw8hy3yPJu>,\n",
      " <Playlist - Front End - PLqSgX1Zu_6lxBqODhrStty0jZAUkU5ysb>,\n",
      " <Playlist - Computer Organization and Assembly Programming - 2021 SPRING - PLqSgX1Zu_6lx4k8Ho8AelPXCZW0bJAZur>,\n",
      " <Playlist - Freelance Guide - PLqSgX1Zu_6lwgNJUNluHknx4AOafuwmv4>,\n",
      " <Playlist - Best Maple - PLqSgX1Zu_6lx8tKVoAtoel-t-i2kEVpW->,\n",
      " <Playlist - Friends - PLqSgX1Zu_6lz90yjAjtE0iEVE-sF40AFt>,\n",
      " <Playlist - People Dataset - PLqSgX1Zu_6lxWgnsTihi10h2t3HUo6FIC>,\n",
      " <Playlist - CI - 2020 FALL - PLqSgX1Zu_6lzm1nvFXogbikHwxCRTF3pC>,\n",
      " <Playlist - CLASSIC Reading - PLqSgX1Zu_6lzlknrLm9m1GxEP4IPIguI->,\n",
      " <Playlist - AI - 2020 FALL - PLqSgX1Zu_6lzKVXh9RklHhpO9H__l-TSE>,\n",
      " <Playlist - Mac Tutorial - PLqSgX1Zu_6lx5ReZeMFTwTwZ_K4iT08pK>,\n",
      " <Playlist - HSD - Git - PLqSgX1Zu_6lxYrwAblFzO0grvixHCVEX3>,\n",
      " <Playlist - Wei Wei Vanyne's MapleStory BGM - PLqSgX1Zu_6lw1ktBItCdhk4KNWiauUjQM>]\n"
     ]
    }
   ],
   "source": [
    "from pprint import pp\n",
    "playlists = ytm.get_playlists()\n",
    "pp(playlists)"
   ],
   "metadata": {
    "collapsed": false,
    "pycharm": {
     "name": "#%%\n"
    }
   }
  },
  {
   "cell_type": "code",
   "execution_count": 6,
   "outputs": [],
   "source": [
    "desc = \"\"\"\n",
    "zzz\n",
    "qqq\n",
    "\"\"\"\n",
    "test_playlist = ytm.create_playlist('test_playlist', description=desc)"
   ],
   "metadata": {
    "collapsed": false,
    "pycharm": {
     "name": "#%%\n"
    }
   }
  },
  {
   "cell_type": "code",
   "execution_count": 7,
   "outputs": [
    {
     "data": {
      "text/plain": "<Playlist - test_playlist - PLqSgX1Zu_6lwv2dDSHsceoknOpdTDqkA0>"
     },
     "execution_count": 7,
     "metadata": {},
     "output_type": "execute_result"
    }
   ],
   "source": [
    "test_playlist"
   ],
   "metadata": {
    "collapsed": false,
    "pycharm": {
     "name": "#%%\n"
    }
   }
  },
  {
   "cell_type": "code",
   "execution_count": 8,
   "outputs": [
    {
     "data": {
      "text/plain": "'test_playlist'"
     },
     "execution_count": 8,
     "metadata": {},
     "output_type": "execute_result"
    }
   ],
   "source": [
    "# test_playlist.title"
   ],
   "metadata": {
    "collapsed": false,
    "pycharm": {
     "name": "#%%\n"
    }
   }
  },
  {
   "cell_type": "code",
   "execution_count": 11,
   "outputs": [
    {
     "data": {
      "text/plain": "''"
     },
     "execution_count": 11,
     "metadata": {},
     "output_type": "execute_result"
    }
   ],
   "source": [
    "# test_playlist.delete()"
   ],
   "metadata": {
    "collapsed": false,
    "pycharm": {
     "name": "#%%\n"
    }
   }
  },
  {
   "cell_type": "code",
   "execution_count": 10,
   "outputs": [
    {
     "data": {
      "text/plain": "'zzz\\nqqq'"
     },
     "execution_count": 10,
     "metadata": {},
     "output_type": "execute_result"
    }
   ],
   "source": [
    "# test_playlist.description"
   ],
   "metadata": {
    "collapsed": false,
    "pycharm": {
     "name": "#%%\n"
    }
   }
  },
  {
   "cell_type": "code",
   "execution_count": 12,
   "outputs": [],
   "source": [
    "def get_my_channel(self):\n",
    "    request = self.yt_api.channels().list(\n",
    "        part=\"id,snippet,brandingSettings,contentDetails,statistics,status,topicDetails\",\n",
    "        mine=True\n",
    "    )\n",
    "    response = request.execute()\n",
    "\n",
    "    return response"
   ],
   "metadata": {
    "collapsed": false,
    "pycharm": {
     "name": "#%%\n"
    }
   }
  },
  {
   "cell_type": "code",
   "execution_count": 13,
   "outputs": [],
   "source": [
    "my_channel = get_my_channel(ytm)"
   ],
   "metadata": {
    "collapsed": false,
    "pycharm": {
     "name": "#%%\n"
    }
   }
  },
  {
   "cell_type": "code",
   "execution_count": 30,
   "outputs": [
    {
     "data": {
      "text/plain": "{'kind': 'youtube#channelListResponse',\n 'etag': '9BI_m44lPb1lxXqRtn3qnc-VWKQ',\n 'pageInfo': {'totalResults': 1, 'resultsPerPage': 5},\n 'items': [{'kind': 'youtube#channel',\n   'etag': 'WD3jmYCbctixwDK0cdzTm3I2Wy4',\n   'id': 'UC8dEtTVE8qsQwVwuRa2IAOg',\n   'snippet': {'title': 'Puff Vayne',\n    'description': '',\n    'customUrl': '@puffvayne5688',\n    'publishedAt': '2012-10-11T13:11:52Z',\n    'thumbnails': {'default': {'url': 'https://yt3.ggpht.com/ytc/AGIKgqOCZDo-6GknFuh6jj0I9Ho_tEJauQV4Tr8psFphcg=s88-c-k-c0x00ffffff-no-rj',\n      'width': 88,\n      'height': 88},\n     'medium': {'url': 'https://yt3.ggpht.com/ytc/AGIKgqOCZDo-6GknFuh6jj0I9Ho_tEJauQV4Tr8psFphcg=s240-c-k-c0x00ffffff-no-rj',\n      'width': 240,\n      'height': 240},\n     'high': {'url': 'https://yt3.ggpht.com/ytc/AGIKgqOCZDo-6GknFuh6jj0I9Ho_tEJauQV4Tr8psFphcg=s800-c-k-c0x00ffffff-no-rj',\n      'width': 800,\n      'height': 800}},\n    'localized': {'title': 'Puff Vayne', 'description': ''}},\n   'contentDetails': {'relatedPlaylists': {'likes': 'LL',\n     'uploads': 'UU8dEtTVE8qsQwVwuRa2IAOg'}},\n   'statistics': {'viewCount': '2978',\n    'subscriberCount': '40',\n    'hiddenSubscriberCount': False,\n    'videoCount': '6'},\n   'topicDetails': {'topicIds': ['/m/07c1v', '/m/07yv9', '/m/019_rr'],\n    'topicCategories': ['https://en.wikipedia.org/wiki/Technology',\n     'https://en.wikipedia.org/wiki/Vehicle',\n     'https://en.wikipedia.org/wiki/Lifestyle_(sociology)']},\n   'status': {'privacyStatus': 'public',\n    'isLinked': True,\n    'longUploadsStatus': 'allowed'},\n   'brandingSettings': {'channel': {'title': 'Puff Vayne'}}}]}"
     },
     "execution_count": 30,
     "metadata": {},
     "output_type": "execute_result"
    }
   ],
   "source": [
    "my_channel"
   ],
   "metadata": {
    "collapsed": false,
    "pycharm": {
     "name": "#%%\n"
    }
   }
  },
  {
   "cell_type": "code",
   "execution_count": 15,
   "outputs": [],
   "source": [
    "from youtube_manager.utils import to_json"
   ],
   "metadata": {
    "collapsed": false,
    "pycharm": {
     "name": "#%%\n"
    }
   }
  },
  {
   "cell_type": "code",
   "execution_count": 43,
   "outputs": [],
   "source": [
    "import urllib.parse\n",
    "\n",
    "def get_channel_id_by_video(self, video_url):\n",
    "    url_data = urllib.parse.urlparse(video_url)\n",
    "    query = urllib.parse.parse_qs(url_data.query)\n",
    "    video_id = query[\"v\"][0]\n",
    "\n",
    "    request = self.yt_api.videos().list(\n",
    "        part=\"snippet\",\n",
    "        id=video_id\n",
    "    )\n",
    "    response = request.execute()\n",
    "\n",
    "    return response"
   ],
   "metadata": {
    "collapsed": false,
    "pycharm": {
     "name": "#%%\n"
    }
   }
  },
  {
   "cell_type": "code",
   "execution_count": 44,
   "outputs": [
    {
     "data": {
      "text/plain": "{'kind': 'youtube#videoListResponse',\n 'etag': '-4AN8rGLuuKr2Fs_b22CIyMeZlI',\n 'items': [{'kind': 'youtube#video',\n   'etag': 'v9vCaIfxIPyCiM6LEN90mSc0d4E',\n   'id': 'dakyAT38n9w',\n   'snippet': {'publishedAt': '2023-05-24T14:05:10Z',\n    'channelId': 'UCMUnInmOkrWN4gof9KlhNmQ',\n    'title': '【講到流淚】四十分鐘講完這部最熱血的漫畫 | 老高與小茉 Mr & Mrs Gao',\n    'description': '【加入會員按鈕】https://www.youtube.com/channel/UCMUnInmOkrWN4gof9KlhNmQ/join\\n【訂閱頻道按鈕】https://goo.gl/VhzZeS\\n------------------------------------------------\\n相關鏈接：\\n\\n超出你想象的深海世界\\nhttps://www.youtube.com/watch?v=dNmwPWRdv_0\\n\\n【神作】四十分鐘講完三體\\nhttps://www.youtube.com/watch?v=2vowHo2y-hI\\n\\n目前第二長的一期，多重人格分裂\\nhttps://www.youtube.com/watch?v=QAGDGja7kbs\\n\\n人為什麼是人，人類最不可思議的六個特征\\nhttps://www.youtube.com/watch?v=EiWuajug1W4\\n\\n【震撼】這是一部解開所有宇宙之謎的影片\\nhttps://www.youtube.com/watch?v=3QS5hyXpNyw\\n\\n【震撼】這是一部你明天還會再看一遍的影片\\nhttps://www.youtube.com/watch?v=odc0ajxCq2c\\n\\n南極和北極，地球上最不可思議的兩個地方\\nhttps://www.youtube.com/watch?v=jSSIeOlIqu0\\n\\n千萬不要去！世界十大人類禁地\\nhttps://www.youtube.com/watch?v=6SwJpgNLvTk\\n\\n目前信息量最大的一期，重力\\nhttps://www.youtube.com/watch?v=-TDVKQjmf7c\\n\\n人類的隱藏能力，從氣功到超能力還有另一個世界的存在\\nhttps://www.youtube.com/watch?v=3Okf8nOIVLY\\n\\n超出你想象的地球故事\\nhttps://www.youtube.com/watch?v=5AseSLCG7wI\\n\\n目前最長的一期，只有五歲抬頭才能看懂的天能（信条）\\nhttps://www.youtube.com/watch?v=UiyWuEwxCNQ\\n\\n【震撼】2045年，人類究竟是滅絕還是成神\\nhttps://www.youtube.com/watch?v=WY4XLDBDyuk\\n\\n【震撼】智商200也無法解答，宇宙最大的謎團，時間\\nhttps://www.youtube.com/watch?v=6SkbNlWMG5w\\n\\n現代技術也無法再現的七個奇跡\\nhttps://www.youtube.com/watch?v=KtDGWBqCmtk\\n\\n【震撼】海奧華預言，人類起源，耶穌是誰，金字塔之謎，你想知道的答案這裡都有\\nhttps://www.youtube.com/watch?v=1rUWY2z4wUk\\n\\n【神作】三十六分鐘完全解説這部完美閉合的漫畫\\nhttps://www.youtube.com/watch?v=ZN4yFKJuS4Y\\n\\n前往地球中心的旅行，超出你想象的地下世界\\nhttps://www.youtube.com/watch?v=lRVSC97q8ew\\n\\n人類不能再次登上月球的真正原因真是難以置信\\nhttps://www.youtube.com/watch?v=2vzwtqhhJv8\\n\\n“他們”究竟是誰？比金字塔還誇張的遠古文明\\nhttps://www.youtube.com/watch?v=vA7IJRaW0Eo\\n\\n最神奇的星球，地球以及人類存在的真正原因\\nhttps://www.youtube.com/watch?v=BLpv9fCZqcs\\n\\n神作！星際效應，用最簡單的方式告訴你什麽是五維時空\\nhttps://www.youtube.com/watch?v=KefYmjM0E7g\\n\\n天堂的證明，一個你這輩子都看不到的世界\\nhttps://www.youtube.com/watch?v=L8SZQPyB1c8\\n\\n人類不能知道的秘密，人族的故事\\nhttps://www.youtube.com/watch?v=JVOzntXOGRc\\n\\n可怕的巨大史前生物，我們該慶幸它們已經滅絕了\\nhttps://www.youtube.com/watch?v=BXybSLUlFvM\\n\\n人類消失一萬年後，一切都不見了，只有“它”還在\\nhttps://www.youtube.com/watch?v=EW77R_D-XCw\\n\\n目前介紹過的最厲害的一位，此人兩歲就能抬頭\\nhttps://www.youtube.com/watch?v=t_WGhKQ7xqI\\n\\n一萬年後的世界不會比現在更先進的真正原因\\nhttps://www.youtube.com/watch?v=sWY1PtudTEA\\n\\n目前最搞笑的一期，我們本來都是神但由於選擇了美貌而變成了人\\nhttps://www.youtube.com/watch?v=p25SV0WQWjA\\n\\n宇宙有多大，人類最遠可以到達宇宙的什麽地方\\nhttps://www.youtube.com/watch?v=gH_NIUqOJos\\n\\n它的下面埋藏著關於世界末日的重要信息\\nhttps://www.youtube.com/watch?v=Q0pSMTLXvjo\\n\\n目前最細思極恐的一期，二十五號宇宙\\nhttps://www.youtube.com/watch?v=htz2xCJb3Lc\\n\\n【雖然被警告不要說】但是我還是決定公開這一期\\nhttps://www.youtube.com/watch?v=QMsbQ97Ah_M\\n\\n人類的極限，壽命的極限是多少，可以多久不吃飯不睡覺\\nhttps://www.youtube.com/watch?v=VCIHVq2GISw\\n\\n驚人證據揭示地下世界的存在，他們究竟是誰\\nhttps://www.youtube.com/watch?v=0AuaFv9pUYE\\n\\n突然消失的百慕大三角\\nhttps://www.youtube.com/watch?v=kb3ZMhR66fY\\n\\n【震撼】看完這期你就無敵了，史上最強戰術，不戰而勝的奧義，孫子兵法\\nhttps://www.youtube.com/watch?v=4CvVL-rSX8E\\n\\n1萬2千年前的這個裝置究竟是用來做什麼的\\nhttps://www.youtube.com/watch?v=NFH7IErIm3k\\n\\n【月球第三部】人類無法再次登月的另一種可能\\nhttps://www.youtube.com/watch?v=Udvl_VJoM94\\n\\n【震撼】亞特蘭蒂斯真的找到了，神，真的存在過\\nhttps://www.youtube.com/watch?v=QbcKVbL3VOQ\\n\\n【摩羯座的人注意了】神就來自你們的守護星\\nhttps://www.youtube.com/watch?v=EkELAx2Uk1w\\n\\n過去可以被改變的真正原因，被討厭的勇氣\\nhttps://www.youtube.com/watch?v=5cZxZCbcOQw\\n\\n【目前最長影片】人類不能知道的，完全另一個版本的世界的真相\\nhttps://www.youtube.com/watch?v=A7h2clFxyj0\\n\\n【震撼】進化，從1859到2020\\nhttps://www.youtube.com/watch?v=yNFgOL-7nOw\\n\\n地球上最常見卻最神奇的東西，水\\nhttps://www.youtube.com/watch?v=7q88m5MQRhE\\n\\n超越認知的印度\\nhttps://www.youtube.com/watch?v=0cXTyTmDRUI\\n\\n【完美犯罪】又一個超超超高智商的男人\\nhttps://www.youtube.com/watch?v=SSzJdSsLneI\\n\\n地球上智商最高的九種動物，第一名就快變成人了\\nhttps://www.youtube.com/watch?v=mjk1Huc_FoY\\n\\n碰到就玩完了，世界上最可怕的十大海洋生物\\nhttps://www.youtube.com/watch?v=ZYjCi4rpAiQ\\n\\n雪山上發生的最不可思議的事\\nhttps://www.youtube.com/watch?v=8Y-l9WaOd_w\\n\\n【射手座的人注意了】你們的守護星太危險，風速每秒三百公里，木星\\nhttps://www.youtube.com/watch?v=dr9ISxjOO00\\n\\n【講到流淚】二十分鐘講完第一次世界大戰\\nhttps://www.youtube.com/watch?v=G5y85I52HRg\\n\\n你所不了解的天空的世界\\nhttps://www.youtube.com/watch?v=x1QyVwFRrIg\\n\\n【震撼】地球歷史的最大謎團，大洪水\\nhttps://www.youtube.com/watch?v=w69h0zCso-o\\n\\nKFK預言，目前爲止最可信的一個未來人\\nhttps://www.youtube.com/watch?v=ZTxc1YY64cM\\n\\n【震撼】諾亞方舟，不是神話而是預言，漢字中隱藏的秘密\\nhttps://www.youtube.com/watch?v=czNMh9kVhIE\\n\\n【不好意思，今天的標題可能嚇到各位，但我必須說】我們之間其實沒有任何關係\\nhttps://www.youtube.com/watch?v=nhnrfTb8xzA\\n\\n人類瘟疫史，存活下來的唯一方法\\nhttps://www.youtube.com/watch?v=K4t6nF8dDHQ\\n\\n世界是虛擬的但有一個東西是真實的\\nhttps://www.youtube.com/watch?v=B-I2guiXzRA\\n\\n【費米悖論】人類至今無法發現外星人的14種可能，越往後可能性越大\\nhttps://www.youtube.com/watch?v=N4xXGIrzKJs\\n\\n【震撼】一切都不是巧合，2020真正的預言\\nhttps://www.youtube.com/watch?v=wGaTEf0e67U\\n\\n【震撼】史上最深奧的話題，意識\\nhttps://www.youtube.com/watch?v=wraBVnAfunc\\n\\n不可思议的前世記憶，可能你也有\\nhttps://www.youtube.com/watch?v=v3kfH0a_dDY\\n\\n病毒，進化\\nhttps://www.youtube.com/watch?v=_oBVDBVTKbU\\n\\n目前最快的影片，速度的世界\\nhttps://www.youtube.com/watch?v=yf7S1s37des\\n\\n怕海的人不要看，真實的美人魚\\nhttps://www.youtube.com/watch?v=3cHZfgSqPa4\\n\\n七個可能毀滅世界的科學實驗，其中三個還在進行中\\nhttps://www.youtube.com/watch?v=ElqnKNkiyHA\\n\\n你的生日數字相加等於幾？如果等於369，那你註定不平凡啊\\nhttps://www.youtube.com/watch?v=KQv0lEaDGco\\n\\n看得見摸得著卻無法解釋，世界上最大的謎團，第一集\\nhttps://www.youtube.com/watch?v=Ttus8XGK6Xw\\n\\n------------------------------------------------\\n推薦播放列表：\\n\\n【未來】https://goo.gl/Bq54h5\\n\\n【傳說】https://goo.gl/CpmK2Y\\n\\n【心理測試】https://goo.gl/wf5dp5\\n\\n【奇趣】https://goo.gl/Tbpiuj',\n    'thumbnails': {'default': {'url': 'https://i.ytimg.com/vi/dakyAT38n9w/default.jpg',\n      'width': 120,\n      'height': 90},\n     'medium': {'url': 'https://i.ytimg.com/vi/dakyAT38n9w/mqdefault.jpg',\n      'width': 320,\n      'height': 180},\n     'high': {'url': 'https://i.ytimg.com/vi/dakyAT38n9w/hqdefault.jpg',\n      'width': 480,\n      'height': 360},\n     'standard': {'url': 'https://i.ytimg.com/vi/dakyAT38n9w/sddefault.jpg',\n      'width': 640,\n      'height': 480},\n     'maxres': {'url': 'https://i.ytimg.com/vi/dakyAT38n9w/maxresdefault.jpg',\n      'width': 1280,\n      'height': 720}},\n    'channelTitle': '老高與小茉 Mr & Mrs Gao',\n    'categoryId': '24',\n    'liveBroadcastContent': 'none',\n    'defaultLanguage': 'en',\n    'localized': {'title': '【講到流淚】四十分鐘講完這部最熱血的漫畫 | 老高與小茉 Mr & Mrs Gao',\n     'description': '【加入會員按鈕】https://www.youtube.com/channel/UCMUnInmOkrWN4gof9KlhNmQ/join\\n【訂閱頻道按鈕】https://goo.gl/VhzZeS\\n------------------------------------------------\\n相關鏈接：\\n\\n超出你想象的深海世界\\nhttps://www.youtube.com/watch?v=dNmwPWRdv_0\\n\\n【神作】四十分鐘講完三體\\nhttps://www.youtube.com/watch?v=2vowHo2y-hI\\n\\n目前第二長的一期，多重人格分裂\\nhttps://www.youtube.com/watch?v=QAGDGja7kbs\\n\\n人為什麼是人，人類最不可思議的六個特征\\nhttps://www.youtube.com/watch?v=EiWuajug1W4\\n\\n【震撼】這是一部解開所有宇宙之謎的影片\\nhttps://www.youtube.com/watch?v=3QS5hyXpNyw\\n\\n【震撼】這是一部你明天還會再看一遍的影片\\nhttps://www.youtube.com/watch?v=odc0ajxCq2c\\n\\n南極和北極，地球上最不可思議的兩個地方\\nhttps://www.youtube.com/watch?v=jSSIeOlIqu0\\n\\n千萬不要去！世界十大人類禁地\\nhttps://www.youtube.com/watch?v=6SwJpgNLvTk\\n\\n目前信息量最大的一期，重力\\nhttps://www.youtube.com/watch?v=-TDVKQjmf7c\\n\\n人類的隱藏能力，從氣功到超能力還有另一個世界的存在\\nhttps://www.youtube.com/watch?v=3Okf8nOIVLY\\n\\n超出你想象的地球故事\\nhttps://www.youtube.com/watch?v=5AseSLCG7wI\\n\\n目前最長的一期，只有五歲抬頭才能看懂的天能（信条）\\nhttps://www.youtube.com/watch?v=UiyWuEwxCNQ\\n\\n【震撼】2045年，人類究竟是滅絕還是成神\\nhttps://www.youtube.com/watch?v=WY4XLDBDyuk\\n\\n【震撼】智商200也無法解答，宇宙最大的謎團，時間\\nhttps://www.youtube.com/watch?v=6SkbNlWMG5w\\n\\n現代技術也無法再現的七個奇跡\\nhttps://www.youtube.com/watch?v=KtDGWBqCmtk\\n\\n【震撼】海奧華預言，人類起源，耶穌是誰，金字塔之謎，你想知道的答案這裡都有\\nhttps://www.youtube.com/watch?v=1rUWY2z4wUk\\n\\n【神作】三十六分鐘完全解説這部完美閉合的漫畫\\nhttps://www.youtube.com/watch?v=ZN4yFKJuS4Y\\n\\n前往地球中心的旅行，超出你想象的地下世界\\nhttps://www.youtube.com/watch?v=lRVSC97q8ew\\n\\n人類不能再次登上月球的真正原因真是難以置信\\nhttps://www.youtube.com/watch?v=2vzwtqhhJv8\\n\\n“他們”究竟是誰？比金字塔還誇張的遠古文明\\nhttps://www.youtube.com/watch?v=vA7IJRaW0Eo\\n\\n最神奇的星球，地球以及人類存在的真正原因\\nhttps://www.youtube.com/watch?v=BLpv9fCZqcs\\n\\n神作！星際效應，用最簡單的方式告訴你什麽是五維時空\\nhttps://www.youtube.com/watch?v=KefYmjM0E7g\\n\\n天堂的證明，一個你這輩子都看不到的世界\\nhttps://www.youtube.com/watch?v=L8SZQPyB1c8\\n\\n人類不能知道的秘密，人族的故事\\nhttps://www.youtube.com/watch?v=JVOzntXOGRc\\n\\n可怕的巨大史前生物，我們該慶幸它們已經滅絕了\\nhttps://www.youtube.com/watch?v=BXybSLUlFvM\\n\\n人類消失一萬年後，一切都不見了，只有“它”還在\\nhttps://www.youtube.com/watch?v=EW77R_D-XCw\\n\\n目前介紹過的最厲害的一位，此人兩歲就能抬頭\\nhttps://www.youtube.com/watch?v=t_WGhKQ7xqI\\n\\n一萬年後的世界不會比現在更先進的真正原因\\nhttps://www.youtube.com/watch?v=sWY1PtudTEA\\n\\n目前最搞笑的一期，我們本來都是神但由於選擇了美貌而變成了人\\nhttps://www.youtube.com/watch?v=p25SV0WQWjA\\n\\n宇宙有多大，人類最遠可以到達宇宙的什麽地方\\nhttps://www.youtube.com/watch?v=gH_NIUqOJos\\n\\n它的下面埋藏著關於世界末日的重要信息\\nhttps://www.youtube.com/watch?v=Q0pSMTLXvjo\\n\\n目前最細思極恐的一期，二十五號宇宙\\nhttps://www.youtube.com/watch?v=htz2xCJb3Lc\\n\\n【雖然被警告不要說】但是我還是決定公開這一期\\nhttps://www.youtube.com/watch?v=QMsbQ97Ah_M\\n\\n人類的極限，壽命的極限是多少，可以多久不吃飯不睡覺\\nhttps://www.youtube.com/watch?v=VCIHVq2GISw\\n\\n驚人證據揭示地下世界的存在，他們究竟是誰\\nhttps://www.youtube.com/watch?v=0AuaFv9pUYE\\n\\n突然消失的百慕大三角\\nhttps://www.youtube.com/watch?v=kb3ZMhR66fY\\n\\n【震撼】看完這期你就無敵了，史上最強戰術，不戰而勝的奧義，孫子兵法\\nhttps://www.youtube.com/watch?v=4CvVL-rSX8E\\n\\n1萬2千年前的這個裝置究竟是用來做什麼的\\nhttps://www.youtube.com/watch?v=NFH7IErIm3k\\n\\n【月球第三部】人類無法再次登月的另一種可能\\nhttps://www.youtube.com/watch?v=Udvl_VJoM94\\n\\n【震撼】亞特蘭蒂斯真的找到了，神，真的存在過\\nhttps://www.youtube.com/watch?v=QbcKVbL3VOQ\\n\\n【摩羯座的人注意了】神就來自你們的守護星\\nhttps://www.youtube.com/watch?v=EkELAx2Uk1w\\n\\n過去可以被改變的真正原因，被討厭的勇氣\\nhttps://www.youtube.com/watch?v=5cZxZCbcOQw\\n\\n【目前最長影片】人類不能知道的，完全另一個版本的世界的真相\\nhttps://www.youtube.com/watch?v=A7h2clFxyj0\\n\\n【震撼】進化，從1859到2020\\nhttps://www.youtube.com/watch?v=yNFgOL-7nOw\\n\\n地球上最常見卻最神奇的東西，水\\nhttps://www.youtube.com/watch?v=7q88m5MQRhE\\n\\n超越認知的印度\\nhttps://www.youtube.com/watch?v=0cXTyTmDRUI\\n\\n【完美犯罪】又一個超超超高智商的男人\\nhttps://www.youtube.com/watch?v=SSzJdSsLneI\\n\\n地球上智商最高的九種動物，第一名就快變成人了\\nhttps://www.youtube.com/watch?v=mjk1Huc_FoY\\n\\n碰到就玩完了，世界上最可怕的十大海洋生物\\nhttps://www.youtube.com/watch?v=ZYjCi4rpAiQ\\n\\n雪山上發生的最不可思議的事\\nhttps://www.youtube.com/watch?v=8Y-l9WaOd_w\\n\\n【射手座的人注意了】你們的守護星太危險，風速每秒三百公里，木星\\nhttps://www.youtube.com/watch?v=dr9ISxjOO00\\n\\n【講到流淚】二十分鐘講完第一次世界大戰\\nhttps://www.youtube.com/watch?v=G5y85I52HRg\\n\\n你所不了解的天空的世界\\nhttps://www.youtube.com/watch?v=x1QyVwFRrIg\\n\\n【震撼】地球歷史的最大謎團，大洪水\\nhttps://www.youtube.com/watch?v=w69h0zCso-o\\n\\nKFK預言，目前爲止最可信的一個未來人\\nhttps://www.youtube.com/watch?v=ZTxc1YY64cM\\n\\n【震撼】諾亞方舟，不是神話而是預言，漢字中隱藏的秘密\\nhttps://www.youtube.com/watch?v=czNMh9kVhIE\\n\\n【不好意思，今天的標題可能嚇到各位，但我必須說】我們之間其實沒有任何關係\\nhttps://www.youtube.com/watch?v=nhnrfTb8xzA\\n\\n人類瘟疫史，存活下來的唯一方法\\nhttps://www.youtube.com/watch?v=K4t6nF8dDHQ\\n\\n世界是虛擬的但有一個東西是真實的\\nhttps://www.youtube.com/watch?v=B-I2guiXzRA\\n\\n【費米悖論】人類至今無法發現外星人的14種可能，越往後可能性越大\\nhttps://www.youtube.com/watch?v=N4xXGIrzKJs\\n\\n【震撼】一切都不是巧合，2020真正的預言\\nhttps://www.youtube.com/watch?v=wGaTEf0e67U\\n\\n【震撼】史上最深奧的話題，意識\\nhttps://www.youtube.com/watch?v=wraBVnAfunc\\n\\n不可思议的前世記憶，可能你也有\\nhttps://www.youtube.com/watch?v=v3kfH0a_dDY\\n\\n病毒，進化\\nhttps://www.youtube.com/watch?v=_oBVDBVTKbU\\n\\n目前最快的影片，速度的世界\\nhttps://www.youtube.com/watch?v=yf7S1s37des\\n\\n怕海的人不要看，真實的美人魚\\nhttps://www.youtube.com/watch?v=3cHZfgSqPa4\\n\\n七個可能毀滅世界的科學實驗，其中三個還在進行中\\nhttps://www.youtube.com/watch?v=ElqnKNkiyHA\\n\\n你的生日數字相加等於幾？如果等於369，那你註定不平凡啊\\nhttps://www.youtube.com/watch?v=KQv0lEaDGco\\n\\n看得見摸得著卻無法解釋，世界上最大的謎團，第一集\\nhttps://www.youtube.com/watch?v=Ttus8XGK6Xw\\n\\n------------------------------------------------\\n推薦播放列表：\\n\\n【未來】https://goo.gl/Bq54h5\\n\\n【傳說】https://goo.gl/CpmK2Y\\n\\n【心理測試】https://goo.gl/wf5dp5\\n\\n【奇趣】https://goo.gl/Tbpiuj'},\n    'defaultAudioLanguage': 'zxx'}}],\n 'pageInfo': {'totalResults': 1, 'resultsPerPage': 1}}"
     },
     "execution_count": 44,
     "metadata": {},
     "output_type": "execute_result"
    }
   ],
   "source": [
    "url = 'https://www.youtube.com/watch?v=dakyAT38n9w&t=1960s'\n",
    "\n",
    "channel_id = get_channel_id_by_video(ytm, url)\n",
    "channel_id"
   ],
   "metadata": {
    "collapsed": false,
    "pycharm": {
     "name": "#%%\n"
    }
   }
  },
  {
   "cell_type": "code",
   "execution_count": 45,
   "outputs": [],
   "source": [
    "xiao_lin_shuo = ytm.create_playlist('xiao_lin_shuo')"
   ],
   "metadata": {
    "collapsed": false,
    "pycharm": {
     "name": "#%%\n"
    }
   }
  },
  {
   "cell_type": "code",
   "execution_count": null,
   "outputs": [],
   "source": [],
   "metadata": {
    "collapsed": false,
    "pycharm": {
     "name": "#%%\n"
    }
   }
  }
 ],
 "metadata": {
  "kernelspec": {
   "name": "yt",
   "language": "python",
   "display_name": "YouTube Manager"
  },
  "language_info": {
   "codemirror_mode": {
    "name": "ipython",
    "version": 2
   },
   "file_extension": ".py",
   "mimetype": "text/x-python",
   "name": "python",
   "nbconvert_exporter": "python",
   "pygments_lexer": "ipython2",
   "version": "2.7.6"
  }
 },
 "nbformat": 4,
 "nbformat_minor": 0
}